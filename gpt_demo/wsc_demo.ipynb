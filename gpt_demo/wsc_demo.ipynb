{
 "cells": [
  {
   "cell_type": "markdown",
   "source": [
    "# 评测chatgpt解决指代消解问题"
   ],
   "metadata": {
    "collapsed": false
   }
  },
  {
   "cell_type": "code",
   "execution_count": null,
   "outputs": [],
   "source": [
    "import os\n",
    "from typing import List\n",
    "\n",
    "from datasets import load_dataset\n",
    "\n"
   ],
   "metadata": {
    "collapsed": false,
    "ExecuteTime": {
     "start_time": "2024-01-30T17:12:57.936825Z",
     "end_time": "2024-01-30T17:13:00.293234Z"
    }
   }
  },
  {
   "cell_type": "code",
   "execution_count": null,
   "outputs": [],
   "source": [
    "wsc273_dataset = load_dataset('winograd_wsc', name='wsc273', split='test')\n",
    "wsc273_dataset"
   ],
   "metadata": {
    "collapsed": false,
    "ExecuteTime": {
     "start_time": "2024-01-30T17:13:00.295453Z",
     "end_time": "2024-01-30T17:13:06.135025Z"
    }
   }
  },
  {
   "cell_type": "code",
   "execution_count": null,
   "outputs": [],
   "source": [
    "!pip install openai==0.28.0"
   ],
   "metadata": {
    "collapsed": false
   }
  },
  {
   "cell_type": "code",
   "execution_count": null,
   "outputs": [],
   "source": [
    "import openai\n",
    "\n",
    "openai.api_key = os.getenv(\"OPENAI_API_KEY\")\n",
    "openai.api_base = os.getenv(\"OPENAI_API_BASE\")"
   ],
   "metadata": {
    "collapsed": false,
    "ExecuteTime": {
     "start_time": "2024-01-30T17:14:30.965434Z",
     "end_time": "2024-01-30T17:14:30.975533Z"
    }
   }
  },
  {
   "cell_type": "code",
   "execution_count": null,
   "outputs": [],
   "source": [
    "openai.__version__"
   ],
   "metadata": {
    "collapsed": false
   }
  },
  {
   "cell_type": "code",
   "execution_count": null,
   "outputs": [],
   "source": [
    "def query_format_helper(pronoun: str, answers: List[str]) -> str:\n",
    "    return f'Q: In the previous statement, does \"{pronoun}\" refer to {answers[0]} or {answers[1]}? A:'\n",
    "\n",
    "\n",
    "def construct_query_from_schema(\n",
    "        text: str, pronoun: str, answers: List[str]\n",
    ") -> str:\n",
    "    return f\"S:{text} {query_format_helper(pronoun, answers)}\"\n",
    "\n",
    "c = 0\n",
    "for example in wsc273_dataset:\n",
    "    query = construct_query_from_schema(example['text'], example['pronoun'], example['options'])\n",
    "    print(query)\n",
    "    break"
   ],
   "metadata": {
    "collapsed": false,
    "ExecuteTime": {
     "start_time": "2024-01-30T17:14:31.159736Z",
     "end_time": "2024-01-30T17:14:31.171432Z"
    }
   }
  },
  {
   "cell_type": "code",
   "execution_count": null,
   "outputs": [],
   "source": [
    "def get_openai_answer(query_prompt: str, add_leading: bool = True) -> str:\n",
    "    init_prompt_starter = \"The following are pairs of Winograd Schema in the form of a statement S, a question Q, and an answer A:\"\n",
    "    init_prompt1 = \"S: The cat went through the door, but it's tail got stuck. Q: In the previous statement, what does 'it' refer to? A: The cat.\"\n",
    "    init_prompt2 = \"S: The cat tried to go through the door, but it was too small. Q: In the previous statement, what does 'it' refer to? A: The door.\"\n",
    "    init_prompt3 = \"S: Fedex made more profit than UPS last year, but that was mostly due to the success of the new delivery system they implemented. Q: In the previous statement, what does 'they' refer to? A: Fedex.\"\n",
    "    init_prompt4 = \"S: Sam tried to buy Xerxes lunch, but he wouldn't allow it. Q: In the previous statement, who does 'he' refer to? A: Xerxes.\"\n",
    "\n",
    "    # add leading prompts to cue model...\n",
    "    if add_leading:\n",
    "        query_prompt = f\"{init_prompt_starter} {init_prompt1}, {init_prompt2}, {init_prompt3}, {init_prompt4}, {query_prompt}\"\n",
    "\n",
    "    response = openai.ChatCompletion.create(\n",
    "        model=\"gpt-4\",\n",
    "        prompt=query_prompt,\n",
    "        temperature=0,\n",
    "        max_tokens=200,\n",
    "        top_p=1,\n",
    "        frequency_penalty=0.0,\n",
    "        presence_penalty=0.0,\n",
    "        stop=[\"\\n\"]\n",
    "    )\n",
    "\n",
    "    return response['choices'][0]['text']"
   ],
   "metadata": {
    "collapsed": false,
    "ExecuteTime": {
     "start_time": "2024-01-30T17:14:31.345301Z",
     "end_time": "2024-01-30T17:14:31.357813Z"
    }
   }
  },
  {
   "cell_type": "code",
   "execution_count": null,
   "outputs": [],
   "source": [
    "c = 0\n",
    "for example in wsc273_dataset:\n",
    "    query = construct_query_from_schema(example['text'], example['pronoun'], example['options'])\n",
    "    print(query)\n",
    "    r = get_openai_answer(query)\n",
    "    print(r)\n",
    "    break"
   ],
   "metadata": {
    "collapsed": false
   }
  },
  {
   "cell_type": "code",
   "execution_count": null,
   "outputs": [],
   "source": [],
   "metadata": {
    "collapsed": false
   }
  }
 ],
 "metadata": {
  "kernelspec": {
   "display_name": "Python 3",
   "language": "python",
   "name": "python3"
  },
  "language_info": {
   "codemirror_mode": {
    "name": "ipython",
    "version": 2
   },
   "file_extension": ".py",
   "mimetype": "text/x-python",
   "name": "python",
   "nbconvert_exporter": "python",
   "pygments_lexer": "ipython2",
   "version": "2.7.6"
  }
 },
 "nbformat": 4,
 "nbformat_minor": 0
}
